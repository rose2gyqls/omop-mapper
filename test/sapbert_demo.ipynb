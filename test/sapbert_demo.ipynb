{
  "cells": [
    {
      "cell_type": "markdown",
      "metadata": {},
      "source": [
        "# SapBERT 의료 엔티티 임베딩 테스트\n",
        "\n",
        "이 노트북에서는 SapBERT를 사용하여 OMOP CONCEPT 데이터의 의료 엔티티 임베딩을 테스트하고 시각화합니다.\n",
        "\n",
        "## 주요 기능\n",
        "1. SapBERT 모델을 사용한 의료 엔티티 임베딩 생성\n",
        "2. 임베딩 품질 평가 (유사성 분석)\n",
        "3. 2D 시각화 (UMAP, t-SNE)\n",
        "4. 클러스터링 분석\n",
        "5. 인터랙티브 시각화\n"
      ]
    }
  ],
  "metadata": {
    "language_info": {
      "name": "python"
    }
  },
  "nbformat": 4,
  "nbformat_minor": 2
}
