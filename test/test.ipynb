{
 "cells": [
  {
   "cell_type": "code",
   "execution_count": 1,
   "id": "bf0b78f0",
   "metadata": {},
   "outputs": [],
   "source": [
    "import os\n",
    "ES_SERVER_HOST = os.getenv(\"ES_SERVER_HOST\", \"3.35.110.161\")\n",
    "ES_SERVER_PORT = int(os.getenv(\"ES_SERVER_PORT\", \"9200\"))\n",
    "ES_SERVER_USERNAME = os.getenv(\"ES_SERVER_USERNAME\", \"elastic\")\n",
    "ES_SERVER_PASSWORD = os.getenv(\"ES_SERVER_PASSWORD\", \"snomed\")\n",
    "\n",
    "from elasticsearch import Elasticsearch\n",
    "\n",
    "# ES 8.x 문법 (기본 권장)\n",
    "es = Elasticsearch(\n",
    "    f\"http://{ES_SERVER_HOST}:{ES_SERVER_PORT}\",\n",
    "    basic_auth=(ES_SERVER_USERNAME, ES_SERVER_PASSWORD),\n",
    "    request_timeout=60,\n",
    ")"
   ]
  },
  {
   "cell_type": "code",
   "execution_count": 2,
   "id": "a2d209e7",
   "metadata": {},
   "outputs": [
    {
     "name": "stdout",
     "output_type": "stream",
     "text": [
      "Cluster name: docker-cluster\n",
      "Version: 9.0.0\n",
      "\n",
      "총 인덱스 수: 3\n"
     ]
    }
   ],
   "source": [
    "# 연결 확인\n",
    "info = es.info()\n",
    "print(\"Cluster name:\", info.get('cluster_name'))\n",
    "print(\"Version:\", info.get('version', {}).get('number'))\n",
    "\n",
    "# 인덱스 확인\n",
    "indices = sorted(es.indices.get(index=\"*\").keys())\n",
    "print(f\"\\n총 인덱스 수: {len(indices)}\")"
   ]
  },
  {
   "cell_type": "code",
   "execution_count": 3,
   "id": "7395d00c",
   "metadata": {},
   "outputs": [
    {
     "data": {
      "text/html": [
       "<div>\n",
       "<style scoped>\n",
       "    .dataframe tbody tr th:only-of-type {\n",
       "        vertical-align: middle;\n",
       "    }\n",
       "\n",
       "    .dataframe tbody tr th {\n",
       "        vertical-align: top;\n",
       "    }\n",
       "\n",
       "    .dataframe thead th {\n",
       "        text-align: right;\n",
       "    }\n",
       "</style>\n",
       "<table border=\"1\" class=\"dataframe\">\n",
       "  <thead>\n",
       "    <tr style=\"text-align: right;\">\n",
       "      <th></th>\n",
       "      <th>index_name</th>\n",
       "      <th>shards</th>\n",
       "      <th>replicas</th>\n",
       "      <th>docs</th>\n",
       "      <th>store_mb</th>\n",
       "    </tr>\n",
       "  </thead>\n",
       "  <tbody>\n",
       "    <tr>\n",
       "      <th>0</th>\n",
       "      <td>concept</td>\n",
       "      <td>3</td>\n",
       "      <td>5</td>\n",
       "      <td>80000</td>\n",
       "      <td>1231</td>\n",
       "    </tr>\n",
       "    <tr>\n",
       "      <th>1</th>\n",
       "      <td>concept-relationship</td>\n",
       "      <td>1</td>\n",
       "      <td>0</td>\n",
       "      <td>38924726</td>\n",
       "      <td>2937</td>\n",
       "    </tr>\n",
       "    <tr>\n",
       "      <th>2</th>\n",
       "      <td>concept-small</td>\n",
       "      <td>3</td>\n",
       "      <td>5</td>\n",
       "      <td>65564</td>\n",
       "      <td>1010</td>\n",
       "    </tr>\n",
       "  </tbody>\n",
       "</table>\n",
       "</div>"
      ],
      "text/plain": [
       "             index_name shards replicas      docs store_mb\n",
       "0               concept      3        5     80000     1231\n",
       "1  concept-relationship      1        0  38924726     2937\n",
       "2         concept-small      3        5     65564     1010"
      ]
     },
     "execution_count": 3,
     "metadata": {},
     "output_type": "execute_result"
    }
   ],
   "source": [
    "import pandas as pd\n",
    "\n",
    "rows = es.cat.indices(format=\"json\", s=\"index\", bytes=\"mb\")\n",
    "df = pd.DataFrame(rows)[[\"index\", \"pri\", \"rep\", \"docs.count\", \"store.size\"]]\n",
    "df.rename(columns={\"index\":\"index_name\", \n",
    "                     \"pri\":\"shards\", \n",
    "                     \"rep\":\"replicas\",\n",
    "                     \"docs.count\":\"docs\", \n",
    "                     \"store.size\":\"store_mb\"}, inplace=True)\n",
    "df"
   ]
  },
  {
   "cell_type": "code",
   "execution_count": 6,
   "id": "88ca1741",
   "metadata": {},
   "outputs": [
    {
     "data": {
      "text/plain": [
       "{'concept_id': '4030206',\n",
       " 'concept_name': \"Adrenal Cushing's syndrome\",\n",
       " 'domain_id': 'Condition',\n",
       " 'vocabulary_id': 'SNOMED',\n",
       " 'concept_class_id': 'Disorder',\n",
       " 'standard_concept': 'S',\n",
       " 'concept_code': '237735008',\n",
       " 'valid_start_date': '20020131',\n",
       " 'valid_end_date': '20991231',\n",
       " 'invalid_reason': None}"
      ]
     },
     "execution_count": 6,
     "metadata": {},
     "output_type": "execute_result"
    }
   ],
   "source": [
    "# concepts 인덱스에서 첫번째 문서 확인\n",
    "doc = es.get(index=\"concept\", id=4030206)\n",
    "doc[\"_source\"]"
   ]
  },
  {
   "cell_type": "code",
   "execution_count": 6,
   "id": "2d3dbf5e",
   "metadata": {},
   "outputs": [
    {
     "name": "stderr",
     "output_type": "stream",
     "text": [
      "/tmp/ipykernel_613533/3095425160.py:3: DtypeWarning: Columns (5,6,9) have mixed types. Specify dtype option on import or set low_memory=False.\n",
      "  df = pd.read_csv('/home/work/skku/hyo/omop-mapper/data/CONCEPT.csv', sep='\\t')\n"
     ]
    },
    {
     "data": {
      "text/html": [
       "<div>\n",
       "<style scoped>\n",
       "    .dataframe tbody tr th:only-of-type {\n",
       "        vertical-align: middle;\n",
       "    }\n",
       "\n",
       "    .dataframe tbody tr th {\n",
       "        vertical-align: top;\n",
       "    }\n",
       "\n",
       "    .dataframe thead th {\n",
       "        text-align: right;\n",
       "    }\n",
       "</style>\n",
       "<table border=\"1\" class=\"dataframe\">\n",
       "  <thead>\n",
       "    <tr style=\"text-align: right;\">\n",
       "      <th></th>\n",
       "      <th>concept_id</th>\n",
       "      <th>concept_name</th>\n",
       "      <th>domain_id</th>\n",
       "      <th>vocabulary_id</th>\n",
       "      <th>concept_class_id</th>\n",
       "      <th>standard_concept</th>\n",
       "      <th>concept_code</th>\n",
       "      <th>valid_start_date</th>\n",
       "      <th>valid_end_date</th>\n",
       "      <th>invalid_reason</th>\n",
       "    </tr>\n",
       "  </thead>\n",
       "  <tbody>\n",
       "    <tr>\n",
       "      <th>0</th>\n",
       "      <td>45756805</td>\n",
       "      <td>Pediatric Cardiology</td>\n",
       "      <td>Provider</td>\n",
       "      <td>ABMS</td>\n",
       "      <td>Physician Specialty</td>\n",
       "      <td>S</td>\n",
       "      <td>OMOP4821938</td>\n",
       "      <td>19700101</td>\n",
       "      <td>20991231</td>\n",
       "      <td>NaN</td>\n",
       "    </tr>\n",
       "    <tr>\n",
       "      <th>1</th>\n",
       "      <td>45756804</td>\n",
       "      <td>Pediatric Anesthesiology</td>\n",
       "      <td>Provider</td>\n",
       "      <td>ABMS</td>\n",
       "      <td>Physician Specialty</td>\n",
       "      <td>S</td>\n",
       "      <td>OMOP4821939</td>\n",
       "      <td>19700101</td>\n",
       "      <td>20991231</td>\n",
       "      <td>NaN</td>\n",
       "    </tr>\n",
       "    <tr>\n",
       "      <th>2</th>\n",
       "      <td>45756803</td>\n",
       "      <td>Pathology-Anatomic / Pathology-Clinical</td>\n",
       "      <td>Provider</td>\n",
       "      <td>ABMS</td>\n",
       "      <td>Physician Specialty</td>\n",
       "      <td>S</td>\n",
       "      <td>OMOP4821940</td>\n",
       "      <td>19700101</td>\n",
       "      <td>20991231</td>\n",
       "      <td>NaN</td>\n",
       "    </tr>\n",
       "    <tr>\n",
       "      <th>3</th>\n",
       "      <td>45756802</td>\n",
       "      <td>Pathology - Pediatric</td>\n",
       "      <td>Provider</td>\n",
       "      <td>ABMS</td>\n",
       "      <td>Physician Specialty</td>\n",
       "      <td>S</td>\n",
       "      <td>OMOP4821941</td>\n",
       "      <td>19700101</td>\n",
       "      <td>20991231</td>\n",
       "      <td>NaN</td>\n",
       "    </tr>\n",
       "    <tr>\n",
       "      <th>4</th>\n",
       "      <td>45756801</td>\n",
       "      <td>Pathology - Molecular Genetic</td>\n",
       "      <td>Provider</td>\n",
       "      <td>ABMS</td>\n",
       "      <td>Physician Specialty</td>\n",
       "      <td>S</td>\n",
       "      <td>OMOP4821942</td>\n",
       "      <td>19700101</td>\n",
       "      <td>20991231</td>\n",
       "      <td>NaN</td>\n",
       "    </tr>\n",
       "  </tbody>\n",
       "</table>\n",
       "</div>"
      ],
      "text/plain": [
       "   concept_id                             concept_name domain_id  \\\n",
       "0    45756805                     Pediatric Cardiology  Provider   \n",
       "1    45756804                 Pediatric Anesthesiology  Provider   \n",
       "2    45756803  Pathology-Anatomic / Pathology-Clinical  Provider   \n",
       "3    45756802                    Pathology - Pediatric  Provider   \n",
       "4    45756801            Pathology - Molecular Genetic  Provider   \n",
       "\n",
       "  vocabulary_id     concept_class_id standard_concept concept_code  \\\n",
       "0          ABMS  Physician Specialty                S  OMOP4821938   \n",
       "1          ABMS  Physician Specialty                S  OMOP4821939   \n",
       "2          ABMS  Physician Specialty                S  OMOP4821940   \n",
       "3          ABMS  Physician Specialty                S  OMOP4821941   \n",
       "4          ABMS  Physician Specialty                S  OMOP4821942   \n",
       "\n",
       "   valid_start_date  valid_end_date invalid_reason  \n",
       "0          19700101        20991231            NaN  \n",
       "1          19700101        20991231            NaN  \n",
       "2          19700101        20991231            NaN  \n",
       "3          19700101        20991231            NaN  \n",
       "4          19700101        20991231            NaN  "
      ]
     },
     "execution_count": 6,
     "metadata": {},
     "output_type": "execute_result"
    }
   ],
   "source": [
    "import pandas as pd\n",
    "\n",
    "df = pd.read_csv('/home/work/skku/hyo/omop-mapper/data/CONCEPT.csv', sep='\\t')\n",
    "df.head()"
   ]
  },
  {
   "cell_type": "code",
   "execution_count": 7,
   "id": "50b88fe1",
   "metadata": {},
   "outputs": [
    {
     "data": {
      "text/plain": [
       "array(['S', nan, 'C'], dtype=object)"
      ]
     },
     "execution_count": 7,
     "metadata": {},
     "output_type": "execute_result"
    }
   ],
   "source": [
    "df['standard_concept'].unique()"
   ]
  },
  {
   "cell_type": "code",
   "execution_count": 4,
   "id": "8ca52345",
   "metadata": {},
   "outputs": [
    {
     "name": "stdout",
     "output_type": "stream",
     "text": [
      "--- Cluster Node Roles ---\n",
      "\n",
      "[CRITICAL] No ML nodes found in the cluster!\n",
      "Please edit 'elasticsearch.yml' on at least one node to add the 'ml' role and restart it.\n"
     ]
    }
   ],
   "source": [
    "from elasticsearch import Elasticsearch\n",
    "\n",
    "# --- Elasticsearch 연결 정보 수정 ---\n",
    "ES_HOST = \"http://3.35.110.161:9200\"\n",
    "ES_USER = \"elastic\"\n",
    "ES_PASSWORD = \"snomed\"\n",
    "# ------------------------------------\n",
    "\n",
    "try:\n",
    "    # Elasticsearch 클라이언트 생성\n",
    "    es = Elasticsearch(\n",
    "        [ES_HOST],\n",
    "        basic_auth=(ES_USER, ES_PASSWORD),\n",
    "        request_timeout=30\n",
    "    )\n",
    "\n",
    "    # 클러스터의 모든 노드 정보 가져오기\n",
    "    # 'settings'와 'roles' 정보만 필터링하여 요청\n",
    "    nodes_info = es.nodes.info(metric=[\"settings\", \"roles\"])\n",
    "\n",
    "    print(\"--- Cluster Node Roles ---\")\n",
    "\n",
    "    ml_node_found = False\n",
    "    for node_id, info in nodes_info[\"nodes\"].items():\n",
    "        node_name = info[\"name\"]\n",
    "        roles = info[\"roles\"]\n",
    "        \n",
    "        print(f\"Node Name: {node_name}\")\n",
    "        print(f\"  - Roles: {roles}\")\n",
    "        \n",
    "        if \"ml\" in roles:\n",
    "            ml_node_found = True\n",
    "            print(\"  - ✅ This node is an ML node.\")\n",
    "        else:\n",
    "            print(\"  - ❌ This node is NOT an ML node.\")\n",
    "        print(\"-\" * 20)\n",
    "\n",
    "    if not ml_node_found:\n",
    "        print(\"\\n[CRITICAL] No ML nodes found in the cluster!\")\n",
    "        print(\"Please edit 'elasticsearch.yml' on at least one node to add the 'ml' role and restart it.\")\n",
    "    else:\n",
    "        print(\"\\n[INFO] ML node(s) found in the cluster.\")\n",
    "\n",
    "except Exception as e:\n",
    "    print(f\"An error occurred: {e}\")"
   ]
  },
  {
   "cell_type": "code",
   "execution_count": 4,
   "id": "a96aa50d",
   "metadata": {},
   "outputs": [
    {
     "name": "stderr",
     "output_type": "stream",
     "text": [
      "100%|██████████| 1/1 [00:00<00:00,  2.22it/s]\n"
     ]
    }
   ],
   "source": [
    "import numpy as np\n",
    "import torch\n",
    "from tqdm.auto import tqdm\n",
    "from transformers import AutoTokenizer, AutoModel  \n",
    "\n",
    "tokenizer = AutoTokenizer.from_pretrained(\"cambridgeltl/SapBERT-from-PubMedBERT-fulltext\")  \n",
    "model = AutoModel.from_pretrained(\"cambridgeltl/SapBERT-from-PubMedBERT-fulltext\").cuda()\n",
    "\n",
    "# replace with your own list of entity names\n",
    "all_names = [\"covid-19\", \"Coronavirus infection\", \"high fever\", \"Tumor of posterior wall of oropharynx\"] \n",
    "\n",
    "bs = 128 # batch size during inference\n",
    "all_embs = []\n",
    "for i in tqdm(np.arange(0, len(all_names), bs)):\n",
    "    toks = tokenizer.batch_encode_plus(all_names[i:i+bs], \n",
    "                                       padding=\"max_length\", \n",
    "                                       max_length=25, \n",
    "                                       truncation=True,\n",
    "                                       return_tensors=\"pt\")\n",
    "    toks_cuda = {}\n",
    "    for k,v in toks.items():\n",
    "        toks_cuda[k] = v.cuda()\n",
    "    cls_rep = model(**toks_cuda)[0][:,0,:] # use CLS representation as the embedding\n",
    "    all_embs.append(cls_rep.cpu().detach().numpy())\n",
    "\n",
    "all_embs = np.concatenate(all_embs, axis=0)"
   ]
  },
  {
   "cell_type": "code",
   "execution_count": 5,
   "id": "ec45e600",
   "metadata": {},
   "outputs": [
    {
     "data": {
      "text/plain": [
       "array([[-0.6451716 , -0.38790604, -0.2130785 , ...,  0.24005862,\n",
       "         0.80429304,  0.42398137],\n",
       "       [-1.1887959 , -0.27441087,  0.2855798 , ..., -0.12620574,\n",
       "         0.80619425,  0.06771377],\n",
       "       [-0.13085003,  0.43954894, -0.14286613, ..., -0.31815034,\n",
       "         0.37861803,  0.1544096 ],\n",
       "       [-0.8676109 ,  0.00507731, -0.38106015, ...,  0.18329258,\n",
       "         0.8961128 , -0.29551512]], shape=(4, 768), dtype=float32)"
      ]
     },
     "execution_count": 5,
     "metadata": {},
     "output_type": "execute_result"
    }
   ],
   "source": [
    "all_embs"
   ]
  },
  {
   "cell_type": "code",
   "execution_count": 3,
   "id": "fe82f4f4",
   "metadata": {},
   "outputs": [],
   "source": [
    "from transformers import AutoTokenizer, AutoModel  \n",
    "tokenizer = AutoTokenizer.from_pretrained(\"cambridgeltl/SapBERT-from-PubMedBERT-fulltext\")  \n",
    "model = AutoModel.from_pretrained(\"cambridgeltl/SapBERT-from-PubMedBERT-fulltext\") #.cuda(1)"
   ]
  },
  {
   "cell_type": "code",
   "execution_count": 2,
   "id": "9c595b71",
   "metadata": {},
   "outputs": [
    {
     "name": "stdout",
     "output_type": "stream",
     "text": [
      "3.12.11 | packaged by conda-forge | (main, Jun  4 2025, 14:45:31) [GCC 13.3.0]\n",
      "2.8.0+cu128\n"
     ]
    }
   ],
   "source": [
    "import sys, torch\n",
    "print(sys.version)\n",
    "print(torch.__version__)\n",
    "from transformers import AutoTokenizer, AutoModel"
   ]
  },
  {
   "cell_type": "code",
   "execution_count": 1,
   "id": "c8a18bec",
   "metadata": {},
   "outputs": [
    {
     "name": "stderr",
     "output_type": "stream",
     "text": [
      "/home/work/skku/anaconda3/envs/elastic/lib/python3.12/site-packages/tqdm/auto.py:21: TqdmWarning: IProgress not found. Please update jupyter and ipywidgets. See https://ipywidgets.readthedocs.io/en/stable/user_install.html\n",
      "  from .autonotebook import tqdm as notebook_tqdm\n"
     ]
    }
   ],
   "source": [
    "from transformers.models.bert import BertModel, BertTokenizer\n",
    "m = BertModel.from_pretrained(\"bert-base-uncased\")"
   ]
  },
  {
   "cell_type": "code",
   "execution_count": 1,
   "id": "ab16121e",
   "metadata": {},
   "outputs": [
    {
     "name": "stdout",
     "output_type": "stream",
     "text": [
      "Project root '/home/work/skku/hyo/omop-mapper' added to sys.path.\n"
     ]
    }
   ],
   "source": [
    "import sys\n",
    "import os\n",
    "\n",
    "project_root = os.path.abspath(os.path.join(os.getcwd(), '..'))\n",
    "\n",
    "if project_root not in sys.path:\n",
    "    sys.path.insert(0, project_root)\n",
    "\n",
    "print(f\"Project root '{project_root}' added to sys.path.\")"
   ]
  },
  {
   "cell_type": "code",
   "execution_count": 2,
   "id": "e0a2de53",
   "metadata": {},
   "outputs": [
    {
     "name": "stderr",
     "output_type": "stream",
     "text": [
      "/home/work/skku/anaconda3/envs/elastic/lib/python3.12/site-packages/tqdm/auto.py:21: TqdmWarning: IProgress not found. Please update jupyter and ipywidgets. See https://ipywidgets.readthedocs.io/en/stable/user_install.html\n",
      "  from .autonotebook import tqdm as notebook_tqdm\n"
     ]
    }
   ],
   "source": [
    "from src.omop_mapper.entity_mapping_api import map_single_entity_debug, EntityMappingAPI"
   ]
  },
  {
   "cell_type": "code",
   "execution_count": 3,
   "id": "37aa24a6",
   "metadata": {},
   "outputs": [],
   "source": [
    "import logging\n",
    "\n",
    "logger = logging.getLogger(__name__)"
   ]
  },
  {
   "cell_type": "code",
   "execution_count": 24,
   "id": "9757a755",
   "metadata": {},
   "outputs": [
    {
     "name": "stdout",
     "output_type": "stream",
     "text": [
      "✅ URL 방식으로 Elasticsearch 클라이언트 생성 성공\n",
      "✅ Elasticsearch 연결 성공: http://3.35.110.161:9200\n",
      "✅ ElasticsearchClient 초기화 완료 - Elasticsearch 클라이언트 사용 가능 (3.35.110.161:9200)\n",
      "Best: {'concept_id': '4030206', 'concept_name': \"Adrenal Cushing's syndrome\", 'score': 0.39999999999999997, 'confidence': 'very_low', 'method': 'direct_standard'}\n",
      "4030206 Adrenal Cushing's syndrome text=1.000 sem=0.000 final=0.400\n",
      "195212 Hypercortisolism text=0.185 sem=0.000 final=0.074\n"
     ]
    }
   ],
   "source": [
    "out = map_single_entity_debug(\n",
    "    entity_name=\"Adrenal Cushing's syndrome\",\n",
    "    entity_type=\"diagnostic\",\n",
    "    domain_id=\"condition\"\n",
    ")\n",
    "\n",
    "print(\"Best:\", out[\"result\"])\n",
    "for c in out[\"candidates\"][:5]:\n",
    "    print(c[\"concept_id\"], c[\"concept_name\"],\n",
    "          f\"text={c['text_similarity']:.3f}\",\n",
    "          f\"sem={c['semantic_similarity']:.3f}\",\n",
    "          f\"final={c['final_score']:.3f}\")"
   ]
  },
  {
   "cell_type": "code",
   "execution_count": 3,
   "id": "1b50ff5e",
   "metadata": {},
   "outputs": [
    {
     "name": "stdout",
     "output_type": "stream",
     "text": [
      "✅ URL 방식으로 Elasticsearch 클라이언트 생성 성공\n",
      "✅ Elasticsearch 연결 성공: http://3.35.110.161:9200\n",
      "✅ ElasticsearchClient 초기화 완료 - Elasticsearch 클라이언트 사용 가능 (3.35.110.161:9200)\n",
      "{'id': '45756805', 'has_embedding': True, 'embedding_len': 768, 'known_embedding_keys': ['concept_embedding', 'embedding', 'sapbert_embedding', 'embedding_vector', 'embedding_values', 'vector', 'values', 'data'], 'keys': ['concept_id', 'concept_name', 'domain_id', 'vocabulary_id', 'concept_class_id', 'standard_concept', 'concept_code', 'valid_start_date', 'valid_end_date', 'invalid_reason', 'concept_embedding']}\n"
     ]
    }
   ],
   "source": [
    "api = EntityMappingAPI()\n",
    "info = api.debug_dump_sample_embedding(index=\"concept\", size=1)\n",
    "print(info)"
   ]
  },
  {
   "cell_type": "code",
   "execution_count": 4,
   "id": "d10990cb",
   "metadata": {},
   "outputs": [
    {
     "name": "stdout",
     "output_type": "stream",
     "text": [
      "조회된 문서 키 수: 10, 일부: ['concept_id', 'concept_name', 'domain_id', 'vocabulary_id', 'concept_class_id', 'standard_concept', 'concept_code', 'valid_start_date', 'valid_end_date', 'invalid_reason']\n",
      "해당 문서에서 임베딩을 찾지 못했습니다\n"
     ]
    }
   ],
   "source": [
    "api.debug_compute_semantic_similarity(\"Cushing syndrome\", concept_id=\"4030206\", index=\"concept\")"
   ]
  },
  {
   "cell_type": "code",
   "execution_count": null,
   "id": "a1799deb",
   "metadata": {},
   "outputs": [],
   "source": []
  }
 ],
 "metadata": {
  "kernelspec": {
   "display_name": "elastic",
   "language": "python",
   "name": "python3"
  },
  "language_info": {
   "codemirror_mode": {
    "name": "ipython",
    "version": 3
   },
   "file_extension": ".py",
   "mimetype": "text/x-python",
   "name": "python",
   "nbconvert_exporter": "python",
   "pygments_lexer": "ipython3",
   "version": "3.12.11"
  }
 },
 "nbformat": 4,
 "nbformat_minor": 5
}
