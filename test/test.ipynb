{
 "cells": [
  {
   "cell_type": "code",
   "execution_count": 4,
   "id": "bf0b78f0",
   "metadata": {},
   "outputs": [],
   "source": [
    "import os\n",
    "ES_SERVER_HOST = os.getenv(\"ES_SERVER_HOST\", \"3.35.110.161\")\n",
    "ES_SERVER_PORT = int(os.getenv(\"ES_SERVER_PORT\", \"9200\"))\n",
    "ES_SERVER_USERNAME = os.getenv(\"ES_SERVER_USERNAME\", \"elastic\")\n",
    "ES_SERVER_PASSWORD = os.getenv(\"ES_SERVER_PASSWORD\", \"snomed\")\n",
    "\n",
    "from elasticsearch import Elasticsearch\n",
    "\n",
    "# ES 8.x 문법 (기본 권장)\n",
    "es = Elasticsearch(\n",
    "    f\"http://{ES_SERVER_HOST}:{ES_SERVER_PORT}\",\n",
    "    basic_auth=(ES_SERVER_USERNAME, ES_SERVER_PASSWORD),\n",
    "    request_timeout=60,\n",
    ")"
   ]
  },
  {
   "cell_type": "code",
   "execution_count": 5,
   "id": "a2d209e7",
   "metadata": {},
   "outputs": [
    {
     "name": "stdout",
     "output_type": "stream",
     "text": [
      "Cluster name: docker-cluster\n",
      "Version: 9.0.0\n",
      "\n",
      "총 인덱스 수: 3\n"
     ]
    }
   ],
   "source": [
    "# 연결 확인\n",
    "info = es.info()\n",
    "print(\"Cluster name:\", info.get('cluster_name'))\n",
    "print(\"Version:\", info.get('version', {}).get('number'))\n",
    "\n",
    "# 인덱스 확인\n",
    "indices = sorted(es.indices.get(index=\"*\").keys())\n",
    "print(f\"\\n총 인덱스 수: {len(indices)}\")"
   ]
  },
  {
   "cell_type": "code",
   "execution_count": 6,
   "id": "7395d00c",
   "metadata": {},
   "outputs": [
    {
     "data": {
      "text/html": [
       "<div>\n",
       "<style scoped>\n",
       "    .dataframe tbody tr th:only-of-type {\n",
       "        vertical-align: middle;\n",
       "    }\n",
       "\n",
       "    .dataframe tbody tr th {\n",
       "        vertical-align: top;\n",
       "    }\n",
       "\n",
       "    .dataframe thead th {\n",
       "        text-align: right;\n",
       "    }\n",
       "</style>\n",
       "<table border=\"1\" class=\"dataframe\">\n",
       "  <thead>\n",
       "    <tr style=\"text-align: right;\">\n",
       "      <th></th>\n",
       "      <th>index_name</th>\n",
       "      <th>shards</th>\n",
       "      <th>replicas</th>\n",
       "      <th>docs</th>\n",
       "      <th>store_mb</th>\n",
       "    </tr>\n",
       "  </thead>\n",
       "  <tbody>\n",
       "    <tr>\n",
       "      <th>0</th>\n",
       "      <td>concept-relationship</td>\n",
       "      <td>1</td>\n",
       "      <td>0</td>\n",
       "      <td>38924726</td>\n",
       "      <td>2937</td>\n",
       "    </tr>\n",
       "    <tr>\n",
       "      <th>1</th>\n",
       "      <td>concept-small</td>\n",
       "      <td>3</td>\n",
       "      <td>5</td>\n",
       "      <td>9922324</td>\n",
       "      <td>151731</td>\n",
       "    </tr>\n",
       "    <tr>\n",
       "      <th>2</th>\n",
       "      <td>concept-synonym</td>\n",
       "      <td>3</td>\n",
       "      <td>5</td>\n",
       "      <td>3937455</td>\n",
       "      <td>60894</td>\n",
       "    </tr>\n",
       "  </tbody>\n",
       "</table>\n",
       "</div>"
      ],
      "text/plain": [
       "             index_name shards replicas      docs store_mb\n",
       "0  concept-relationship      1        0  38924726     2937\n",
       "1         concept-small      3        5   9922324   151731\n",
       "2       concept-synonym      3        5   3937455    60894"
      ]
     },
     "execution_count": 6,
     "metadata": {},
     "output_type": "execute_result"
    }
   ],
   "source": [
    "import pandas as pd\n",
    "\n",
    "rows = es.cat.indices(format=\"json\", s=\"index\", bytes=\"mb\")\n",
    "df = pd.DataFrame(rows)[[\"index\", \"pri\", \"rep\", \"docs.count\", \"store.size\"]]\n",
    "df.rename(columns={\"index\":\"index_name\", \n",
    "                     \"pri\":\"shards\", \n",
    "                     \"rep\":\"replicas\",\n",
    "                     \"docs.count\":\"docs\", \n",
    "                     \"store.size\":\"store_mb\"}, inplace=True)\n",
    "df"
   ]
  },
  {
   "cell_type": "code",
   "execution_count": 6,
   "id": "88ca1741",
   "metadata": {},
   "outputs": [
    {
     "ename": "NotFoundError",
     "evalue": "NotFoundError(404, \"{'_index': 'concept-small', '_id': '4030206', 'found': False}\")",
     "output_type": "error",
     "traceback": [
      "\u001b[31m---------------------------------------------------------------------------\u001b[39m",
      "\u001b[31mNotFoundError\u001b[39m                             Traceback (most recent call last)",
      "\u001b[36mCell\u001b[39m\u001b[36m \u001b[39m\u001b[32mIn[6]\u001b[39m\u001b[32m, line 2\u001b[39m\n\u001b[32m      1\u001b[39m \u001b[38;5;66;03m# concepts 인덱스에서 첫번째 문서 확인\u001b[39;00m\n\u001b[32m----> \u001b[39m\u001b[32m2\u001b[39m doc = \u001b[43mes\u001b[49m\u001b[43m.\u001b[49m\u001b[43mget\u001b[49m\u001b[43m(\u001b[49m\u001b[43mindex\u001b[49m\u001b[43m=\u001b[49m\u001b[33;43m\"\u001b[39;49m\u001b[33;43mconcept-small\u001b[39;49m\u001b[33;43m\"\u001b[39;49m\u001b[43m,\u001b[49m\u001b[43m \u001b[49m\u001b[38;5;28;43mid\u001b[39;49m\u001b[43m=\u001b[49m\u001b[32;43m4030206\u001b[39;49m\u001b[43m)\u001b[49m\n\u001b[32m      3\u001b[39m doc[\u001b[33m\"\u001b[39m\u001b[33m_source\u001b[39m\u001b[33m\"\u001b[39m]\n",
      "\u001b[36mFile \u001b[39m\u001b[32m~/skku/anaconda3/envs/elastic/lib/python3.12/site-packages/elasticsearch/_sync/client/utils.py:415\u001b[39m, in \u001b[36m_rewrite_parameters.<locals>.wrapper.<locals>.wrapped\u001b[39m\u001b[34m(*args, **kwargs)\u001b[39m\n\u001b[32m    412\u001b[39m         \u001b[38;5;28;01mexcept\u001b[39;00m \u001b[38;5;167;01mKeyError\u001b[39;00m:\n\u001b[32m    413\u001b[39m             \u001b[38;5;28;01mpass\u001b[39;00m\n\u001b[32m--> \u001b[39m\u001b[32m415\u001b[39m \u001b[38;5;28;01mreturn\u001b[39;00m \u001b[43mapi\u001b[49m\u001b[43m(\u001b[49m\u001b[43m*\u001b[49m\u001b[43margs\u001b[49m\u001b[43m,\u001b[49m\u001b[43m \u001b[49m\u001b[43m*\u001b[49m\u001b[43m*\u001b[49m\u001b[43mkwargs\u001b[49m\u001b[43m)\u001b[49m\n",
      "\u001b[36mFile \u001b[39m\u001b[32m~/skku/anaconda3/envs/elastic/lib/python3.12/site-packages/elasticsearch/_sync/client/__init__.py:2383\u001b[39m, in \u001b[36mElasticsearch.get\u001b[39m\u001b[34m(self, index, id, error_trace, filter_path, force_synthetic_source, human, preference, pretty, realtime, refresh, routing, source, source_excludes, source_includes, stored_fields, version, version_type)\u001b[39m\n\u001b[32m   2381\u001b[39m     __query[\u001b[33m\"\u001b[39m\u001b[33mversion_type\u001b[39m\u001b[33m\"\u001b[39m] = version_type\n\u001b[32m   2382\u001b[39m __headers = {\u001b[33m\"\u001b[39m\u001b[33maccept\u001b[39m\u001b[33m\"\u001b[39m: \u001b[33m\"\u001b[39m\u001b[33mapplication/json\u001b[39m\u001b[33m\"\u001b[39m}\n\u001b[32m-> \u001b[39m\u001b[32m2383\u001b[39m \u001b[38;5;28;01mreturn\u001b[39;00m \u001b[38;5;28;43mself\u001b[39;49m\u001b[43m.\u001b[49m\u001b[43mperform_request\u001b[49m\u001b[43m(\u001b[49m\u001b[43m  \u001b[49m\u001b[38;5;66;43;03m# type: ignore[return-value]\u001b[39;49;00m\n\u001b[32m   2384\u001b[39m \u001b[43m    \u001b[49m\u001b[33;43m\"\u001b[39;49m\u001b[33;43mGET\u001b[39;49m\u001b[33;43m\"\u001b[39;49m\u001b[43m,\u001b[49m\n\u001b[32m   2385\u001b[39m \u001b[43m    \u001b[49m\u001b[43m__path\u001b[49m\u001b[43m,\u001b[49m\n\u001b[32m   2386\u001b[39m \u001b[43m    \u001b[49m\u001b[43mparams\u001b[49m\u001b[43m=\u001b[49m\u001b[43m__query\u001b[49m\u001b[43m,\u001b[49m\n\u001b[32m   2387\u001b[39m \u001b[43m    \u001b[49m\u001b[43mheaders\u001b[49m\u001b[43m=\u001b[49m\u001b[43m__headers\u001b[49m\u001b[43m,\u001b[49m\n\u001b[32m   2388\u001b[39m \u001b[43m    \u001b[49m\u001b[43mendpoint_id\u001b[49m\u001b[43m=\u001b[49m\u001b[33;43m\"\u001b[39;49m\u001b[33;43mget\u001b[39;49m\u001b[33;43m\"\u001b[39;49m\u001b[43m,\u001b[49m\n\u001b[32m   2389\u001b[39m \u001b[43m    \u001b[49m\u001b[43mpath_parts\u001b[49m\u001b[43m=\u001b[49m\u001b[43m__path_parts\u001b[49m\u001b[43m,\u001b[49m\n\u001b[32m   2390\u001b[39m \u001b[43m\u001b[49m\u001b[43m)\u001b[49m\n",
      "\u001b[36mFile \u001b[39m\u001b[32m~/skku/anaconda3/envs/elastic/lib/python3.12/site-packages/elasticsearch/_sync/client/_base.py:271\u001b[39m, in \u001b[36mBaseClient.perform_request\u001b[39m\u001b[34m(self, method, path, params, headers, body, endpoint_id, path_parts)\u001b[39m\n\u001b[32m    255\u001b[39m \u001b[38;5;28;01mdef\u001b[39;00m\u001b[38;5;250m \u001b[39m\u001b[34mperform_request\u001b[39m(\n\u001b[32m    256\u001b[39m     \u001b[38;5;28mself\u001b[39m,\n\u001b[32m    257\u001b[39m     method: \u001b[38;5;28mstr\u001b[39m,\n\u001b[32m   (...)\u001b[39m\u001b[32m    264\u001b[39m     path_parts: Optional[Mapping[\u001b[38;5;28mstr\u001b[39m, Any]] = \u001b[38;5;28;01mNone\u001b[39;00m,\n\u001b[32m    265\u001b[39m ) -> ApiResponse[Any]:\n\u001b[32m    266\u001b[39m     \u001b[38;5;28;01mwith\u001b[39;00m \u001b[38;5;28mself\u001b[39m._otel.span(\n\u001b[32m    267\u001b[39m         method,\n\u001b[32m    268\u001b[39m         endpoint_id=endpoint_id,\n\u001b[32m    269\u001b[39m         path_parts=path_parts \u001b[38;5;129;01mor\u001b[39;00m {},\n\u001b[32m    270\u001b[39m     ) \u001b[38;5;28;01mas\u001b[39;00m otel_span:\n\u001b[32m--> \u001b[39m\u001b[32m271\u001b[39m         response = \u001b[38;5;28;43mself\u001b[39;49m\u001b[43m.\u001b[49m\u001b[43m_perform_request\u001b[49m\u001b[43m(\u001b[49m\n\u001b[32m    272\u001b[39m \u001b[43m            \u001b[49m\u001b[43mmethod\u001b[49m\u001b[43m,\u001b[49m\n\u001b[32m    273\u001b[39m \u001b[43m            \u001b[49m\u001b[43mpath\u001b[49m\u001b[43m,\u001b[49m\n\u001b[32m    274\u001b[39m \u001b[43m            \u001b[49m\u001b[43mparams\u001b[49m\u001b[43m=\u001b[49m\u001b[43mparams\u001b[49m\u001b[43m,\u001b[49m\n\u001b[32m    275\u001b[39m \u001b[43m            \u001b[49m\u001b[43mheaders\u001b[49m\u001b[43m=\u001b[49m\u001b[43mheaders\u001b[49m\u001b[43m,\u001b[49m\n\u001b[32m    276\u001b[39m \u001b[43m            \u001b[49m\u001b[43mbody\u001b[49m\u001b[43m=\u001b[49m\u001b[43mbody\u001b[49m\u001b[43m,\u001b[49m\n\u001b[32m    277\u001b[39m \u001b[43m            \u001b[49m\u001b[43motel_span\u001b[49m\u001b[43m=\u001b[49m\u001b[43motel_span\u001b[49m\u001b[43m,\u001b[49m\n\u001b[32m    278\u001b[39m \u001b[43m        \u001b[49m\u001b[43m)\u001b[49m\n\u001b[32m    279\u001b[39m         otel_span.set_elastic_cloud_metadata(response.meta.headers)\n\u001b[32m    280\u001b[39m         \u001b[38;5;28;01mreturn\u001b[39;00m response\n",
      "\u001b[36mFile \u001b[39m\u001b[32m~/skku/anaconda3/envs/elastic/lib/python3.12/site-packages/elasticsearch/_sync/client/_base.py:351\u001b[39m, in \u001b[36mBaseClient._perform_request\u001b[39m\u001b[34m(self, method, path, params, headers, body, otel_span)\u001b[39m\n\u001b[32m    348\u001b[39m         \u001b[38;5;28;01mexcept\u001b[39;00m (\u001b[38;5;167;01mValueError\u001b[39;00m, \u001b[38;5;167;01mKeyError\u001b[39;00m, \u001b[38;5;167;01mTypeError\u001b[39;00m):\n\u001b[32m    349\u001b[39m             \u001b[38;5;28;01mpass\u001b[39;00m\n\u001b[32m--> \u001b[39m\u001b[32m351\u001b[39m     \u001b[38;5;28;01mraise\u001b[39;00m HTTP_EXCEPTIONS.get(meta.status, ApiError)(\n\u001b[32m    352\u001b[39m         message=message, meta=meta, body=resp_body\n\u001b[32m    353\u001b[39m     )\n\u001b[32m    355\u001b[39m \u001b[38;5;66;03m# 'X-Elastic-Product: Elasticsearch' should be on every 2XX response.\u001b[39;00m\n\u001b[32m    356\u001b[39m \u001b[38;5;28;01mif\u001b[39;00m \u001b[38;5;129;01mnot\u001b[39;00m \u001b[38;5;28mself\u001b[39m._verified_elasticsearch:\n\u001b[32m    357\u001b[39m     \u001b[38;5;66;03m# If the header is set we mark the server as verified.\u001b[39;00m\n",
      "\u001b[31mNotFoundError\u001b[39m: NotFoundError(404, \"{'_index': 'concept-small', '_id': '4030206', 'found': False}\")"
     ]
    }
   ],
   "source": [
    "# concepts 인덱스에서 첫번째 문서 확인\n",
    "doc = es.get(index=\"concept-small\", id=4030206)\n",
    "doc[\"_source\"]"
   ]
  },
  {
   "cell_type": "code",
   "execution_count": 4,
   "id": "2d3dbf5e",
   "metadata": {},
   "outputs": [
    {
     "name": "stderr",
     "output_type": "stream",
     "text": [
      "/tmp/ipykernel_1950289/3095425160.py:3: DtypeWarning: Columns (5,6,9) have mixed types. Specify dtype option on import or set low_memory=False.\n",
      "  df = pd.read_csv('/home/work/skku/hyo/omop-mapper/data/CONCEPT.csv', sep='\\t')\n"
     ]
    },
    {
     "data": {
      "text/html": [
       "<div>\n",
       "<style scoped>\n",
       "    .dataframe tbody tr th:only-of-type {\n",
       "        vertical-align: middle;\n",
       "    }\n",
       "\n",
       "    .dataframe tbody tr th {\n",
       "        vertical-align: top;\n",
       "    }\n",
       "\n",
       "    .dataframe thead th {\n",
       "        text-align: right;\n",
       "    }\n",
       "</style>\n",
       "<table border=\"1\" class=\"dataframe\">\n",
       "  <thead>\n",
       "    <tr style=\"text-align: right;\">\n",
       "      <th></th>\n",
       "      <th>concept_id</th>\n",
       "      <th>concept_name</th>\n",
       "      <th>domain_id</th>\n",
       "      <th>vocabulary_id</th>\n",
       "      <th>concept_class_id</th>\n",
       "      <th>standard_concept</th>\n",
       "      <th>concept_code</th>\n",
       "      <th>valid_start_date</th>\n",
       "      <th>valid_end_date</th>\n",
       "      <th>invalid_reason</th>\n",
       "    </tr>\n",
       "  </thead>\n",
       "  <tbody>\n",
       "    <tr>\n",
       "      <th>0</th>\n",
       "      <td>45756805</td>\n",
       "      <td>Pediatric Cardiology</td>\n",
       "      <td>Provider</td>\n",
       "      <td>ABMS</td>\n",
       "      <td>Physician Specialty</td>\n",
       "      <td>S</td>\n",
       "      <td>OMOP4821938</td>\n",
       "      <td>19700101</td>\n",
       "      <td>20991231</td>\n",
       "      <td>NaN</td>\n",
       "    </tr>\n",
       "    <tr>\n",
       "      <th>1</th>\n",
       "      <td>45756804</td>\n",
       "      <td>Pediatric Anesthesiology</td>\n",
       "      <td>Provider</td>\n",
       "      <td>ABMS</td>\n",
       "      <td>Physician Specialty</td>\n",
       "      <td>S</td>\n",
       "      <td>OMOP4821939</td>\n",
       "      <td>19700101</td>\n",
       "      <td>20991231</td>\n",
       "      <td>NaN</td>\n",
       "    </tr>\n",
       "    <tr>\n",
       "      <th>2</th>\n",
       "      <td>45756803</td>\n",
       "      <td>Pathology-Anatomic / Pathology-Clinical</td>\n",
       "      <td>Provider</td>\n",
       "      <td>ABMS</td>\n",
       "      <td>Physician Specialty</td>\n",
       "      <td>S</td>\n",
       "      <td>OMOP4821940</td>\n",
       "      <td>19700101</td>\n",
       "      <td>20991231</td>\n",
       "      <td>NaN</td>\n",
       "    </tr>\n",
       "    <tr>\n",
       "      <th>3</th>\n",
       "      <td>45756802</td>\n",
       "      <td>Pathology - Pediatric</td>\n",
       "      <td>Provider</td>\n",
       "      <td>ABMS</td>\n",
       "      <td>Physician Specialty</td>\n",
       "      <td>S</td>\n",
       "      <td>OMOP4821941</td>\n",
       "      <td>19700101</td>\n",
       "      <td>20991231</td>\n",
       "      <td>NaN</td>\n",
       "    </tr>\n",
       "    <tr>\n",
       "      <th>4</th>\n",
       "      <td>45756801</td>\n",
       "      <td>Pathology - Molecular Genetic</td>\n",
       "      <td>Provider</td>\n",
       "      <td>ABMS</td>\n",
       "      <td>Physician Specialty</td>\n",
       "      <td>S</td>\n",
       "      <td>OMOP4821942</td>\n",
       "      <td>19700101</td>\n",
       "      <td>20991231</td>\n",
       "      <td>NaN</td>\n",
       "    </tr>\n",
       "  </tbody>\n",
       "</table>\n",
       "</div>"
      ],
      "text/plain": [
       "   concept_id                             concept_name domain_id  \\\n",
       "0    45756805                     Pediatric Cardiology  Provider   \n",
       "1    45756804                 Pediatric Anesthesiology  Provider   \n",
       "2    45756803  Pathology-Anatomic / Pathology-Clinical  Provider   \n",
       "3    45756802                    Pathology - Pediatric  Provider   \n",
       "4    45756801            Pathology - Molecular Genetic  Provider   \n",
       "\n",
       "  vocabulary_id     concept_class_id standard_concept concept_code  \\\n",
       "0          ABMS  Physician Specialty                S  OMOP4821938   \n",
       "1          ABMS  Physician Specialty                S  OMOP4821939   \n",
       "2          ABMS  Physician Specialty                S  OMOP4821940   \n",
       "3          ABMS  Physician Specialty                S  OMOP4821941   \n",
       "4          ABMS  Physician Specialty                S  OMOP4821942   \n",
       "\n",
       "   valid_start_date  valid_end_date invalid_reason  \n",
       "0          19700101        20991231            NaN  \n",
       "1          19700101        20991231            NaN  \n",
       "2          19700101        20991231            NaN  \n",
       "3          19700101        20991231            NaN  \n",
       "4          19700101        20991231            NaN  "
      ]
     },
     "execution_count": 4,
     "metadata": {},
     "output_type": "execute_result"
    }
   ],
   "source": [
    "import pandas as pd\n",
    "\n",
    "df = pd.read_csv('/home/work/skku/hyo/omop-mapper/data/CONCEPT.csv', sep='\\t')\n",
    "df.head()"
   ]
  },
  {
   "cell_type": "code",
   "execution_count": 4,
   "id": "9c99fb6b",
   "metadata": {},
   "outputs": [
    {
     "data": {
      "text/plain": [
       "9922358"
      ]
     },
     "execution_count": 4,
     "metadata": {},
     "output_type": "execute_result"
    }
   ],
   "source": [
    "len(df)"
   ]
  },
  {
   "cell_type": "code",
   "execution_count": 12,
   "id": "78473f04",
   "metadata": {},
   "outputs": [
    {
     "data": {
      "text/html": [
       "<div>\n",
       "<style scoped>\n",
       "    .dataframe tbody tr th:only-of-type {\n",
       "        vertical-align: middle;\n",
       "    }\n",
       "\n",
       "    .dataframe tbody tr th {\n",
       "        vertical-align: top;\n",
       "    }\n",
       "\n",
       "    .dataframe thead th {\n",
       "        text-align: right;\n",
       "    }\n",
       "</style>\n",
       "<table border=\"1\" class=\"dataframe\">\n",
       "  <thead>\n",
       "    <tr style=\"text-align: right;\">\n",
       "      <th></th>\n",
       "      <th>concept_id</th>\n",
       "      <th>concept_name</th>\n",
       "      <th>domain_id</th>\n",
       "      <th>vocabulary_id</th>\n",
       "      <th>concept_class_id</th>\n",
       "      <th>standard_concept</th>\n",
       "      <th>concept_code</th>\n",
       "      <th>valid_start_date</th>\n",
       "      <th>valid_end_date</th>\n",
       "      <th>invalid_reason</th>\n",
       "    </tr>\n",
       "  </thead>\n",
       "  <tbody>\n",
       "    <tr>\n",
       "      <th>2283216</th>\n",
       "      <td>19388264</td>\n",
       "      <td>Mineralocorticoid Receptor Antagonists</td>\n",
       "      <td>Drug</td>\n",
       "      <td>MeSH</td>\n",
       "      <td>Main Heading</td>\n",
       "      <td>NaN</td>\n",
       "      <td>D000451</td>\n",
       "      <td>20230501</td>\n",
       "      <td>20991231</td>\n",
       "      <td>NaN</td>\n",
       "    </tr>\n",
       "    <tr>\n",
       "      <th>3704223</th>\n",
       "      <td>4324562</td>\n",
       "      <td>Mineralocorticoid Receptor Antagonists</td>\n",
       "      <td>Drug</td>\n",
       "      <td>NDFRT</td>\n",
       "      <td>Mechanism of Action</td>\n",
       "      <td>NaN</td>\n",
       "      <td>N0000000139</td>\n",
       "      <td>19700101</td>\n",
       "      <td>20991231</td>\n",
       "      <td>NaN</td>\n",
       "    </tr>\n",
       "  </tbody>\n",
       "</table>\n",
       "</div>"
      ],
      "text/plain": [
       "         concept_id                            concept_name domain_id  \\\n",
       "2283216    19388264  Mineralocorticoid Receptor Antagonists      Drug   \n",
       "3704223     4324562  Mineralocorticoid Receptor Antagonists      Drug   \n",
       "\n",
       "        vocabulary_id     concept_class_id standard_concept concept_code  \\\n",
       "2283216          MeSH         Main Heading              NaN      D000451   \n",
       "3704223         NDFRT  Mechanism of Action              NaN  N0000000139   \n",
       "\n",
       "         valid_start_date  valid_end_date invalid_reason  \n",
       "2283216          20230501        20991231            NaN  \n",
       "3704223          19700101        20991231            NaN  "
      ]
     },
     "execution_count": 12,
     "metadata": {},
     "output_type": "execute_result"
    }
   ],
   "source": [
    "df[df['concept_name'] == 'Mineralocorticoid Receptor Antagonists']"
   ]
  },
  {
   "cell_type": "code",
   "execution_count": 7,
   "id": "b10213aa",
   "metadata": {},
   "outputs": [
    {
     "data": {
      "text/html": [
       "<div>\n",
       "<style scoped>\n",
       "    .dataframe tbody tr th:only-of-type {\n",
       "        vertical-align: middle;\n",
       "    }\n",
       "\n",
       "    .dataframe tbody tr th {\n",
       "        vertical-align: top;\n",
       "    }\n",
       "\n",
       "    .dataframe thead th {\n",
       "        text-align: right;\n",
       "    }\n",
       "</style>\n",
       "<table border=\"1\" class=\"dataframe\">\n",
       "  <thead>\n",
       "    <tr style=\"text-align: right;\">\n",
       "      <th></th>\n",
       "      <th>concept_id</th>\n",
       "      <th>concept_name</th>\n",
       "      <th>domain_id</th>\n",
       "      <th>vocabulary_id</th>\n",
       "      <th>concept_class_id</th>\n",
       "      <th>standard_concept</th>\n",
       "      <th>concept_code</th>\n",
       "      <th>valid_start_date</th>\n",
       "      <th>valid_end_date</th>\n",
       "      <th>invalid_reason</th>\n",
       "    </tr>\n",
       "  </thead>\n",
       "  <tbody>\n",
       "  </tbody>\n",
       "</table>\n",
       "</div>"
      ],
      "text/plain": [
       "Empty DataFrame\n",
       "Columns: [concept_id, concept_name, domain_id, vocabulary_id, concept_class_id, standard_concept, concept_code, valid_start_date, valid_end_date, invalid_reason]\n",
       "Index: []"
      ]
     },
     "execution_count": 7,
     "metadata": {},
     "output_type": "execute_result"
    }
   ],
   "source": [
    "df[df['concept_name'] == 'April 1, 2025']"
   ]
  },
  {
   "cell_type": "code",
   "execution_count": 6,
   "id": "50b88fe1",
   "metadata": {},
   "outputs": [
    {
     "name": "stdout",
     "output_type": "stream",
     "text": [
      "도메인별 데이터 수:\n",
      "Drug: 4,772,484개\n",
      "Observation: 376,134개\n",
      "Condition: 268,040개\n",
      "Device: 237,173개\n",
      "Geography: 204,037개\n",
      "Measurement: 190,196개\n",
      "Procedure: 101,081개\n",
      "Spec Anatomic Site: 41,129개\n",
      "Meas Value: 25,681개\n",
      "Metadata: 4,820개\n",
      "Note: 4,153개\n",
      "Type Concept: 3,807개\n",
      "Unit: 2,490개\n",
      "Specimen: 2,096개\n",
      "Provider: 1,562개\n",
      "Language: 879개\n",
      "Visit: 718개\n",
      "Revenue Code: 545개\n",
      "Race: 519개\n",
      "Relationship: 419개\n",
      "Route: 218개\n",
      "Currency: 180개\n",
      "Payer: 168개\n",
      "Cost: 51개\n",
      "Condition Status: 22개\n",
      "Episode: 18개\n",
      "Gender: 15개\n",
      "Plan Stop Reason: 13개\n",
      "Plan: 11개\n",
      "Condition/Meas: 8개\n",
      "Meas Value Operator: 7개\n",
      "Sponsor: 6개\n",
      "Ethnicity: 2개\n",
      "Condition/Device: 1개\n"
     ]
    }
   ],
   "source": [
    "# 도메인별 데이터 수 계산\n",
    "domain_counts = df['domain_id'].value_counts()\n",
    "\n",
    "# 결과 출력\n",
    "print(\"도메인별 데이터 수:\")\n",
    "for domain, count in domain_counts.items():\n",
    "    print(f\"{domain}: {count:,}개\")"
   ]
  },
  {
   "cell_type": "code",
   "execution_count": 4,
   "id": "8ca52345",
   "metadata": {},
   "outputs": [
    {
     "name": "stdout",
     "output_type": "stream",
     "text": [
      "--- Cluster Node Roles ---\n",
      "\n",
      "[CRITICAL] No ML nodes found in the cluster!\n",
      "Please edit 'elasticsearch.yml' on at least one node to add the 'ml' role and restart it.\n"
     ]
    }
   ],
   "source": [
    "from elasticsearch import Elasticsearch\n",
    "\n",
    "# --- Elasticsearch 연결 정보 수정 ---\n",
    "ES_HOST = \"http://3.35.110.161:9200\"\n",
    "ES_USER = \"elastic\"\n",
    "ES_PASSWORD = \"snomed\"\n",
    "# ------------------------------------\n",
    "\n",
    "try:\n",
    "    # Elasticsearch 클라이언트 생성\n",
    "    es = Elasticsearch(\n",
    "        [ES_HOST],\n",
    "        basic_auth=(ES_USER, ES_PASSWORD),\n",
    "        request_timeout=30\n",
    "    )\n",
    "\n",
    "    # 클러스터의 모든 노드 정보 가져오기\n",
    "    # 'settings'와 'roles' 정보만 필터링하여 요청\n",
    "    nodes_info = es.nodes.info(metric=[\"settings\", \"roles\"])\n",
    "\n",
    "    print(\"--- Cluster Node Roles ---\")\n",
    "\n",
    "    ml_node_found = False\n",
    "    for node_id, info in nodes_info[\"nodes\"].items():\n",
    "        node_name = info[\"name\"]\n",
    "        roles = info[\"roles\"]\n",
    "        \n",
    "        print(f\"Node Name: {node_name}\")\n",
    "        print(f\"  - Roles: {roles}\")\n",
    "        \n",
    "        if \"ml\" in roles:\n",
    "            ml_node_found = True\n",
    "            print(\"  - ✅ This node is an ML node.\")\n",
    "        else:\n",
    "            print(\"  - ❌ This node is NOT an ML node.\")\n",
    "        print(\"-\" * 20)\n",
    "\n",
    "    if not ml_node_found:\n",
    "        print(\"\\n[CRITICAL] No ML nodes found in the cluster!\")\n",
    "        print(\"Please edit 'elasticsearch.yml' on at least one node to add the 'ml' role and restart it.\")\n",
    "    else:\n",
    "        print(\"\\n[INFO] ML node(s) found in the cluster.\")\n",
    "\n",
    "except Exception as e:\n",
    "    print(f\"An error occurred: {e}\")"
   ]
  },
  {
   "cell_type": "code",
   "execution_count": 4,
   "id": "a96aa50d",
   "metadata": {},
   "outputs": [
    {
     "name": "stderr",
     "output_type": "stream",
     "text": [
      "100%|██████████| 1/1 [00:00<00:00,  2.22it/s]\n"
     ]
    }
   ],
   "source": [
    "import numpy as np\n",
    "import torch\n",
    "from tqdm.auto import tqdm\n",
    "from transformers import AutoTokenizer, AutoModel  \n",
    "\n",
    "tokenizer = AutoTokenizer.from_pretrained(\"cambridgeltl/SapBERT-from-PubMedBERT-fulltext\")  \n",
    "model = AutoModel.from_pretrained(\"cambridgeltl/SapBERT-from-PubMedBERT-fulltext\").cuda()\n",
    "\n",
    "# replace with your own list of entity names\n",
    "all_names = [\"covid-19\", \"Coronavirus infection\", \"high fever\", \"Tumor of posterior wall of oropharynx\"] \n",
    "\n",
    "bs = 128 # batch size during inference\n",
    "all_embs = []\n",
    "for i in tqdm(np.arange(0, len(all_names), bs)):\n",
    "    toks = tokenizer.batch_encode_plus(all_names[i:i+bs], \n",
    "                                       padding=\"max_length\", \n",
    "                                       max_length=25, \n",
    "                                       truncation=True,\n",
    "                                       return_tensors=\"pt\")\n",
    "    toks_cuda = {}\n",
    "    for k,v in toks.items():\n",
    "        toks_cuda[k] = v.cuda()\n",
    "    cls_rep = model(**toks_cuda)[0][:,0,:] # use CLS representation as the embedding\n",
    "    all_embs.append(cls_rep.cpu().detach().numpy())\n",
    "\n",
    "all_embs = np.concatenate(all_embs, axis=0)"
   ]
  },
  {
   "cell_type": "code",
   "execution_count": 5,
   "id": "ec45e600",
   "metadata": {},
   "outputs": [
    {
     "data": {
      "text/plain": [
       "array([[-0.6451716 , -0.38790604, -0.2130785 , ...,  0.24005862,\n",
       "         0.80429304,  0.42398137],\n",
       "       [-1.1887959 , -0.27441087,  0.2855798 , ..., -0.12620574,\n",
       "         0.80619425,  0.06771377],\n",
       "       [-0.13085003,  0.43954894, -0.14286613, ..., -0.31815034,\n",
       "         0.37861803,  0.1544096 ],\n",
       "       [-0.8676109 ,  0.00507731, -0.38106015, ...,  0.18329258,\n",
       "         0.8961128 , -0.29551512]], shape=(4, 768), dtype=float32)"
      ]
     },
     "execution_count": 5,
     "metadata": {},
     "output_type": "execute_result"
    }
   ],
   "source": [
    "all_embs"
   ]
  },
  {
   "cell_type": "code",
   "execution_count": 3,
   "id": "fe82f4f4",
   "metadata": {},
   "outputs": [],
   "source": [
    "from transformers import AutoTokenizer, AutoModel  \n",
    "tokenizer = AutoTokenizer.from_pretrained(\"cambridgeltl/SapBERT-from-PubMedBERT-fulltext\")  \n",
    "model = AutoModel.from_pretrained(\"cambridgeltl/SapBERT-from-PubMedBERT-fulltext\") #.cuda(1)"
   ]
  },
  {
   "cell_type": "code",
   "execution_count": null,
   "id": "9c595b71",
   "metadata": {},
   "outputs": [
    {
     "name": "stdout",
     "output_type": "stream",
     "text": [
      "3.12.11 | packaged by conda-forge | (main, Jun  4 2025, 14:45:31) [GCC 13.3.0]\n",
      "2.8.0+cu128\n"
     ]
    }
   ],
   "source": [
    "import sys, torch\n",
    "print(sys.version)\n",
    "print(torch.__version__)\n",
    "from transformers import AutoTokenizer, AutoModel"
   ]
  },
  {
   "cell_type": "code",
   "execution_count": 1,
   "id": "c8a18bec",
   "metadata": {},
   "outputs": [
    {
     "name": "stderr",
     "output_type": "stream",
     "text": [
      "/home/work/skku/anaconda3/envs/elastic/lib/python3.12/site-packages/tqdm/auto.py:21: TqdmWarning: IProgress not found. Please update jupyter and ipywidgets. See https://ipywidgets.readthedocs.io/en/stable/user_install.html\n",
      "  from .autonotebook import tqdm as notebook_tqdm\n"
     ]
    }
   ],
   "source": [
    "from transformers.models.bert import BertModel, BertTokenizer\n",
    "m = BertModel.from_pretrained(\"bert-base-uncased\")"
   ]
  },
  {
   "cell_type": "code",
   "execution_count": 1,
   "id": "ab16121e",
   "metadata": {},
   "outputs": [
    {
     "name": "stdout",
     "output_type": "stream",
     "text": [
      "Project root '/home/work/skku/hyo/omop-mapper' added to sys.path.\n"
     ]
    }
   ],
   "source": [
    "import sys\n",
    "import os\n",
    "\n",
    "project_root = os.path.abspath(os.path.join(os.getcwd(), '..'))\n",
    "\n",
    "if project_root not in sys.path:\n",
    "    sys.path.insert(0, project_root)\n",
    "\n",
    "print(f\"Project root '{project_root}' added to sys.path.\")"
   ]
  },
  {
   "cell_type": "code",
   "execution_count": 2,
   "id": "e0a2de53",
   "metadata": {},
   "outputs": [
    {
     "name": "stderr",
     "output_type": "stream",
     "text": [
      "/home/work/skku/anaconda3/envs/elastic/lib/python3.12/site-packages/tqdm/auto.py:21: TqdmWarning: IProgress not found. Please update jupyter and ipywidgets. See https://ipywidgets.readthedocs.io/en/stable/user_install.html\n",
      "  from .autonotebook import tqdm as notebook_tqdm\n"
     ]
    }
   ],
   "source": [
    "from src.omop_mapper.entity_mapping_api import map_single_entity_debug, EntityMappingAPI"
   ]
  },
  {
   "cell_type": "code",
   "execution_count": 3,
   "id": "37aa24a6",
   "metadata": {},
   "outputs": [],
   "source": [
    "import logging\n",
    "\n",
    "logger = logging.getLogger(__name__)"
   ]
  },
  {
   "cell_type": "code",
   "execution_count": 24,
   "id": "9757a755",
   "metadata": {},
   "outputs": [
    {
     "name": "stdout",
     "output_type": "stream",
     "text": [
      "✅ URL 방식으로 Elasticsearch 클라이언트 생성 성공\n",
      "✅ Elasticsearch 연결 성공: http://3.35.110.161:9200\n",
      "✅ ElasticsearchClient 초기화 완료 - Elasticsearch 클라이언트 사용 가능 (3.35.110.161:9200)\n",
      "Best: {'concept_id': '4030206', 'concept_name': \"Adrenal Cushing's syndrome\", 'score': 0.39999999999999997, 'confidence': 'very_low', 'method': 'direct_standard'}\n",
      "4030206 Adrenal Cushing's syndrome text=1.000 sem=0.000 final=0.400\n",
      "195212 Hypercortisolism text=0.185 sem=0.000 final=0.074\n"
     ]
    }
   ],
   "source": [
    "out = map_single_entity_debug(\n",
    "    entity_name=\"Adrenal Cushing's syndrome\",\n",
    "    entity_type=\"diagnostic\",\n",
    "    domain_id=\"condition\"\n",
    ")\n",
    "\n",
    "print(\"Best:\", out[\"result\"])\n",
    "for c in out[\"candidates\"][:5]:\n",
    "    print(c[\"concept_id\"], c[\"concept_name\"],\n",
    "          f\"text={c['text_similarity']:.3f}\",\n",
    "          f\"sem={c['semantic_similarity']:.3f}\",\n",
    "          f\"final={c['final_score']:.3f}\")"
   ]
  },
  {
   "cell_type": "code",
   "execution_count": 3,
   "id": "1b50ff5e",
   "metadata": {},
   "outputs": [
    {
     "name": "stdout",
     "output_type": "stream",
     "text": [
      "✅ URL 방식으로 Elasticsearch 클라이언트 생성 성공\n",
      "✅ Elasticsearch 연결 성공: http://3.35.110.161:9200\n",
      "✅ ElasticsearchClient 초기화 완료 - Elasticsearch 클라이언트 사용 가능 (3.35.110.161:9200)\n",
      "{'id': '45756805', 'has_embedding': True, 'embedding_len': 768, 'known_embedding_keys': ['concept_embedding', 'embedding', 'sapbert_embedding', 'embedding_vector', 'embedding_values', 'vector', 'values', 'data'], 'keys': ['concept_id', 'concept_name', 'domain_id', 'vocabulary_id', 'concept_class_id', 'standard_concept', 'concept_code', 'valid_start_date', 'valid_end_date', 'invalid_reason', 'concept_embedding']}\n"
     ]
    }
   ],
   "source": [
    "api = EntityMappingAPI()\n",
    "info = api.debug_dump_sample_embedding(index=\"concept\", size=1)\n",
    "print(info)"
   ]
  },
  {
   "cell_type": "code",
   "execution_count": 4,
   "id": "d10990cb",
   "metadata": {},
   "outputs": [
    {
     "name": "stdout",
     "output_type": "stream",
     "text": [
      "조회된 문서 키 수: 10, 일부: ['concept_id', 'concept_name', 'domain_id', 'vocabulary_id', 'concept_class_id', 'standard_concept', 'concept_code', 'valid_start_date', 'valid_end_date', 'invalid_reason']\n",
      "해당 문서에서 임베딩을 찾지 못했습니다\n"
     ]
    }
   ],
   "source": [
    "api.debug_compute_semantic_similarity(\"Cushing syndrome\", concept_id=\"4030206\", index=\"concept\")"
   ]
  },
  {
   "cell_type": "code",
   "execution_count": 3,
   "id": "a1799deb",
   "metadata": {},
   "outputs": [],
   "source": [
    "def calculate_jaccard_similarity(text1: str, text2: str) -> float:\n",
    "    \"\"\"Jaccard 유사도 계산\"\"\"\n",
    "    if not text1 or not text2:\n",
    "        return 0.0\n",
    "    \n",
    "    words1 = set(text1.lower().split())\n",
    "    words2 = set(text2.lower().split())\n",
    "    \n",
    "    if not words1 or not words2:\n",
    "        return 0.0\n",
    "    \n",
    "    intersection = words1.intersection(words2)\n",
    "    union = words1.union(words2)\n",
    "    \n",
    "    return len(intersection) / len(union) if union else 0.0"
   ]
  },
  {
   "cell_type": "code",
   "execution_count": 5,
   "id": "87816e10",
   "metadata": {},
   "outputs": [
    {
     "data": {
      "text/plain": [
       "0.5"
      ]
     },
     "execution_count": 5,
     "metadata": {},
     "output_type": "execute_result"
    }
   ],
   "source": [
    "calculate_jaccard_similarity(\"Acute Coronary Syndromes\", \"Acute Coronary Syndrome\")"
   ]
  },
  {
   "cell_type": "code",
   "execution_count": 2,
   "id": "5cf54080",
   "metadata": {},
   "outputs": [],
   "source": [
    "def calculate_jaccard_similarity(text1: str, text2: str) -> float:\n",
    "    \"\"\"Jaccard 유사도 계산 (3-gram 기반)\"\"\"\n",
    "    if not text1 or not text2:\n",
    "        return 0.0\n",
    "    \n",
    "    # 텍스트를 소문자로 변환하고 공백 제거\n",
    "    clean_text1 = text1.lower().replace(' ', '')\n",
    "    clean_text2 = text2.lower().replace(' ', '')\n",
    "    \n",
    "    if len(clean_text1) < 3 or len(clean_text2) < 3:\n",
    "        # 3-gram을 생성할 수 없는 경우 문자 단위 비교\n",
    "        chars1 = set(clean_text1)\n",
    "        chars2 = set(clean_text2)\n",
    "    else:\n",
    "        # 3-gram 생성\n",
    "        chars1 = set(clean_text1[i:i+3] for i in range(len(clean_text1) - 2))\n",
    "        chars2 = set(clean_text2[i:i+3] for i in range(len(clean_text2) - 2))\n",
    "    \n",
    "    if not chars1 or not chars2:\n",
    "        return 0.0\n",
    "    \n",
    "    intersection = chars1.intersection(chars2)\n",
    "    union = chars1.union(chars2)\n",
    "    \n",
    "    return len(intersection) / len(union) if union else 0.0"
   ]
  },
  {
   "cell_type": "code",
   "execution_count": 5,
   "id": "2dfc48c4",
   "metadata": {},
   "outputs": [
    {
     "data": {
      "text/plain": [
       "0.95"
      ]
     },
     "execution_count": 5,
     "metadata": {},
     "output_type": "execute_result"
    }
   ],
   "source": [
    "calculate_jaccard_similarity(\"Acute Coronary Syndromes\", \"Acute Coronary Syndrome\")"
   ]
  },
  {
   "cell_type": "code",
   "execution_count": 1,
   "id": "89f1b85f",
   "metadata": {},
   "outputs": [
    {
     "data": {
      "text/html": [
       "<div>\n",
       "<style scoped>\n",
       "    .dataframe tbody tr th:only-of-type {\n",
       "        vertical-align: middle;\n",
       "    }\n",
       "\n",
       "    .dataframe tbody tr th {\n",
       "        vertical-align: top;\n",
       "    }\n",
       "\n",
       "    .dataframe thead th {\n",
       "        text-align: right;\n",
       "    }\n",
       "</style>\n",
       "<table border=\"1\" class=\"dataframe\">\n",
       "  <thead>\n",
       "    <tr style=\"text-align: right;\">\n",
       "      <th></th>\n",
       "      <th>concept_id_1</th>\n",
       "      <th>concept_id_2</th>\n",
       "      <th>relationship_id</th>\n",
       "      <th>valid_start_date</th>\n",
       "      <th>valid_end_date</th>\n",
       "      <th>invalid_reason</th>\n",
       "    </tr>\n",
       "  </thead>\n",
       "  <tbody>\n",
       "    <tr>\n",
       "      <th>0</th>\n",
       "      <td>42073232</td>\n",
       "      <td>42073232</td>\n",
       "      <td>Mapped from</td>\n",
       "      <td>20190221</td>\n",
       "      <td>20991231</td>\n",
       "      <td>NaN</td>\n",
       "    </tr>\n",
       "    <tr>\n",
       "      <th>1</th>\n",
       "      <td>42073232</td>\n",
       "      <td>42073232</td>\n",
       "      <td>Maps to</td>\n",
       "      <td>20190221</td>\n",
       "      <td>20991231</td>\n",
       "      <td>NaN</td>\n",
       "    </tr>\n",
       "    <tr>\n",
       "      <th>2</th>\n",
       "      <td>42073236</td>\n",
       "      <td>42073236</td>\n",
       "      <td>Mapped from</td>\n",
       "      <td>20190221</td>\n",
       "      <td>20991231</td>\n",
       "      <td>NaN</td>\n",
       "    </tr>\n",
       "    <tr>\n",
       "      <th>3</th>\n",
       "      <td>42073236</td>\n",
       "      <td>42073236</td>\n",
       "      <td>Maps to</td>\n",
       "      <td>20190221</td>\n",
       "      <td>20991231</td>\n",
       "      <td>NaN</td>\n",
       "    </tr>\n",
       "    <tr>\n",
       "      <th>4</th>\n",
       "      <td>42073241</td>\n",
       "      <td>42073241</td>\n",
       "      <td>Mapped from</td>\n",
       "      <td>20190221</td>\n",
       "      <td>20991231</td>\n",
       "      <td>NaN</td>\n",
       "    </tr>\n",
       "  </tbody>\n",
       "</table>\n",
       "</div>"
      ],
      "text/plain": [
       "   concept_id_1  concept_id_2 relationship_id  valid_start_date  \\\n",
       "0      42073232      42073232     Mapped from          20190221   \n",
       "1      42073232      42073232         Maps to          20190221   \n",
       "2      42073236      42073236     Mapped from          20190221   \n",
       "3      42073236      42073236         Maps to          20190221   \n",
       "4      42073241      42073241     Mapped from          20190221   \n",
       "\n",
       "   valid_end_date  invalid_reason  \n",
       "0        20991231             NaN  \n",
       "1        20991231             NaN  \n",
       "2        20991231             NaN  \n",
       "3        20991231             NaN  \n",
       "4        20991231             NaN  "
      ]
     },
     "execution_count": 1,
     "metadata": {},
     "output_type": "execute_result"
    }
   ],
   "source": [
    "import pandas as pd\n",
    "\n",
    "df = pd.read_csv('/home/work/skku/hyo/omop-mapper/data/CONCEPT_RELATIONSHIP.csv', sep='\\t')\n",
    "df.head()"
   ]
  },
  {
   "cell_type": "code",
   "execution_count": 2,
   "id": "50c69f5e",
   "metadata": {},
   "outputs": [
    {
     "data": {
      "text/html": [
       "<div>\n",
       "<style scoped>\n",
       "    .dataframe tbody tr th:only-of-type {\n",
       "        vertical-align: middle;\n",
       "    }\n",
       "\n",
       "    .dataframe tbody tr th {\n",
       "        vertical-align: top;\n",
       "    }\n",
       "\n",
       "    .dataframe thead th {\n",
       "        text-align: right;\n",
       "    }\n",
       "</style>\n",
       "<table border=\"1\" class=\"dataframe\">\n",
       "  <thead>\n",
       "    <tr style=\"text-align: right;\">\n",
       "      <th></th>\n",
       "      <th>concept_id_1</th>\n",
       "      <th>concept_id_2</th>\n",
       "      <th>relationship_id</th>\n",
       "      <th>valid_start_date</th>\n",
       "      <th>valid_end_date</th>\n",
       "      <th>invalid_reason</th>\n",
       "    </tr>\n",
       "  </thead>\n",
       "  <tbody>\n",
       "    <tr>\n",
       "      <th>37021952</th>\n",
       "      <td>3124603</td>\n",
       "      <td>318443</td>\n",
       "      <td>Maps to</td>\n",
       "      <td>19700101</td>\n",
       "      <td>20991231</td>\n",
       "      <td>NaN</td>\n",
       "    </tr>\n",
       "    <tr>\n",
       "      <th>37021953</th>\n",
       "      <td>3124603</td>\n",
       "      <td>3240703</td>\n",
       "      <td>Concept same_as to</td>\n",
       "      <td>20190816</td>\n",
       "      <td>20991231</td>\n",
       "      <td>NaN</td>\n",
       "    </tr>\n",
       "  </tbody>\n",
       "</table>\n",
       "</div>"
      ],
      "text/plain": [
       "          concept_id_1  concept_id_2     relationship_id  valid_start_date  \\\n",
       "37021952       3124603        318443             Maps to          19700101   \n",
       "37021953       3124603       3240703  Concept same_as to          20190816   \n",
       "\n",
       "          valid_end_date  invalid_reason  \n",
       "37021952        20991231             NaN  \n",
       "37021953        20991231             NaN  "
      ]
     },
     "execution_count": 2,
     "metadata": {},
     "output_type": "execute_result"
    }
   ],
   "source": [
    "df[df['concept_id_1'] == 3124603]"
   ]
  },
  {
   "cell_type": "code",
   "execution_count": 3,
   "id": "481846ba",
   "metadata": {},
   "outputs": [
    {
     "data": {
      "text/plain": [
       "54749168"
      ]
     },
     "execution_count": 3,
     "metadata": {},
     "output_type": "execute_result"
    }
   ],
   "source": [
    "len(df)"
   ]
  },
  {
   "cell_type": "code",
   "execution_count": null,
   "id": "7b3e09fa",
   "metadata": {},
   "outputs": [],
   "source": []
  }
 ],
 "metadata": {
  "kernelspec": {
   "display_name": "elastic",
   "language": "python",
   "name": "python3"
  },
  "language_info": {
   "codemirror_mode": {
    "name": "ipython",
    "version": 3
   },
   "file_extension": ".py",
   "mimetype": "text/x-python",
   "name": "python",
   "nbconvert_exporter": "python",
   "pygments_lexer": "ipython3",
   "version": "3.12.11"
  }
 },
 "nbformat": 4,
 "nbformat_minor": 5
}
